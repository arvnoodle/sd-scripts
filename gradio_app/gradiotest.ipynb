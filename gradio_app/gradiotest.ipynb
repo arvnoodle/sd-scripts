{
 "cells": [
  {
   "cell_type": "code",
   "execution_count": 1,
   "id": "c57e95aa-9f74-4fc1-84b3-fa4d675bc286",
   "metadata": {},
   "outputs": [
    {
     "name": "stdout",
     "output_type": "stream",
     "text": [
      "TOML file updated successfully.\n"
     ]
    }
   ],
   "source": [
    "import toml\n",
    "\n",
    "# Path to the TOML file\n",
    "toml_file_path = 'config_lora-20240822-133138.toml'\n",
    "\n",
    "# Load the TOML file\n",
    "with open(toml_file_path, 'r') as file:\n",
    "    config = toml.load(file)\n",
    "\n",
    "# Adjust the fields\n",
    "config['train_data_dir'] = \"/new/path/to/train_data\"\n",
    "config['output_dir'] = \"/new/path/to/output\"\n",
    "config['output_name'] = \"new_output_name\"\n",
    "\n",
    "# Save the updated TOML file\n",
    "with open(toml_file_path, 'w') as file:\n",
    "    toml.dump(config, file)\n",
    "\n",
    "print(\"TOML file updated successfully.\")"
   ]
  },
  {
   "cell_type": "code",
   "execution_count": 1,
   "id": "2cb5c91e-69e6-48bd-a3db-415c905cc44a",
   "metadata": {},
   "outputs": [
    {
     "name": "stdout",
     "output_type": "stream",
     "text": [
      "Running on local URL:  http://127.0.0.1:7860\n",
      "\n",
      "To create a public link, set `share=True` in `launch()`.\n"
     ]
    },
    {
     "data": {
      "text/html": [
       "<div><iframe src=\"http://127.0.0.1:7860/\" width=\"100%\" height=\"500\" allow=\"autoplay; camera; microphone; clipboard-read; clipboard-write;\" frameborder=\"0\" allowfullscreen></iframe></div>"
      ],
      "text/plain": [
       "<IPython.core.display.HTML object>"
      ]
     },
     "metadata": {},
     "output_type": "display_data"
    },
    {
     "data": {
      "text/plain": []
     },
     "execution_count": 1,
     "metadata": {},
     "output_type": "execute_result"
    }
   ],
   "source": [
    "import gradio as gr\n",
    "import toml\n",
    "\n",
    "# Path to your TOML file\n",
    "TOML_FILE_PATH = 'config_lora-20240822-133138.toml'\n",
    "\n",
    "def update_toml(train_data_dir, output_dir, output_name):\n",
    "    # Load the TOML file\n",
    "    with open(TOML_FILE_PATH, 'r') as file:\n",
    "        config = toml.load(file)\n",
    "    \n",
    "    # Update the fields\n",
    "    config['train_data_dir'] = train_data_dir\n",
    "    config['output_dir'] = output_dir\n",
    "    config['output_name'] = output_name\n",
    "    \n",
    "    # Save the updated TOML file\n",
    "    with open(TOML_FILE_PATH, 'w') as file:\n",
    "        toml.dump(config, file)\n",
    "    \n",
    "    return \"TOML file updated successfully!\"\n",
    "\n",
    "# Create Gradio interface\n",
    "app = gr.Interface(\n",
    "    fn=update_toml,\n",
    "    inputs=[\n",
    "        gr.Textbox(label=\"Train Data Directory\", placeholder=\"Enter new train_data_dir\"),\n",
    "        gr.Textbox(label=\"Output Directory\", placeholder=\"Enter new output_dir\"),\n",
    "        gr.Textbox(label=\"Output Name\", placeholder=\"Enter new output_name\")\n",
    "    ],\n",
    "    outputs=\"text\",\n",
    "    title=\"TOML Parameter Editor\",\n",
    "    description=\"Adjust the parameters of your TOML file.\"\n",
    ")\n",
    "\n",
    "# Launch the app\n",
    "app.launch()"
   ]
  },
  {
   "cell_type": "code",
   "execution_count": 4,
   "id": "c701db76-38cc-405f-8ada-873c3b44c7bf",
   "metadata": {},
   "outputs": [
    {
     "name": "stdout",
     "output_type": "stream",
     "text": [
      "Running on local URL:  http://127.0.0.1:7862\n",
      "Running on public URL: https://0e2e4782af197199a6.gradio.live\n",
      "\n",
      "This share link expires in 72 hours. For free permanent hosting and GPU upgrades, run `gradio deploy` from Terminal to deploy to Spaces (https://huggingface.co/spaces)\n"
     ]
    },
    {
     "data": {
      "text/html": [
       "<div><iframe src=\"https://0e2e4782af197199a6.gradio.live\" width=\"100%\" height=\"500\" allow=\"autoplay; camera; microphone; clipboard-read; clipboard-write;\" frameborder=\"0\" allowfullscreen></iframe></div>"
      ],
      "text/plain": [
       "<IPython.core.display.HTML object>"
      ]
     },
     "metadata": {},
     "output_type": "display_data"
    },
    {
     "data": {
      "text/plain": []
     },
     "execution_count": 4,
     "metadata": {},
     "output_type": "execute_result"
    }
   ],
   "source": [
    "import gradio as gr\n",
    "import toml\n",
    "import subprocess\n",
    "\n",
    "# Path to your TOML file and the script\n",
    "TOML_FILE_PATH = 'config_lora-20240822-133138.toml'\n",
    "SCRIPT_PATH = 'runtraining.sh'\n",
    "\n",
    "def update_toml(train_data_dir, output_dir, output_name):\n",
    "    # Load the TOML file\n",
    "    with open(TOML_FILE_PATH, 'r') as file:\n",
    "        config = toml.load(file)\n",
    "    \n",
    "    # Update the fields\n",
    "    config['train_data_dir'] = train_data_dir\n",
    "    config['output_dir'] = output_dir\n",
    "    config['output_name'] = output_name\n",
    "    \n",
    "    # Save the updated TOML file\n",
    "    with open(TOML_FILE_PATH, 'w') as file:\n",
    "        toml.dump(config, file)\n",
    "    \n",
    "    return \"TOML file updated successfully.\"\n",
    "\n",
    "def start_training(train_data_dir, output_dir, output_name):\n",
    "    # Update the TOML file first\n",
    "    update_message = update_toml(train_data_dir, output_dir, output_name)\n",
    "    \n",
    "    # Run the training script\n",
    "    try:\n",
    "        result = subprocess.run(['bash', SCRIPT_PATH], capture_output=True, text=True)\n",
    "        if result.returncode == 0:\n",
    "            return f\"{update_message}\\nTraining started successfully!\\n\\n{result.stdout}\"\n",
    "        else:\n",
    "            return f\"{update_message}\\nError during training:\\n\\n{result.stderr}\"\n",
    "    except Exception as e:\n",
    "        return f\"An error occurred: {str(e)}\"\n",
    "\n",
    "# Create Gradio interface\n",
    "app = gr.Interface(\n",
    "    fn=start_training,\n",
    "    inputs=[\n",
    "        gr.Textbox(label=\"Train Data Directory\", placeholder=\"Enter new train_data_dir\"),\n",
    "        gr.Textbox(label=\"Output Directory\", placeholder=\"Enter new output_dir\"),\n",
    "        gr.Textbox(label=\"Output Name\", placeholder=\"Enter new output_name\")\n",
    "    ],\n",
    "    outputs=\"text\",\n",
    "    title=\"TOML Parameter Editor and Training Launcher\",\n",
    "    description=\"Adjust the parameters of your TOML file and start training.\"\n",
    ")\n",
    "\n",
    "# Launch the app\n",
    "app.launch()"
   ]
  }
 ],
 "metadata": {
  "kernelspec": {
   "display_name": "difflux",
   "language": "python",
   "name": "python3"
  },
  "language_info": {
   "codemirror_mode": {
    "name": "ipython",
    "version": 3
   },
   "file_extension": ".py",
   "mimetype": "text/x-python",
   "name": "python",
   "nbconvert_exporter": "python",
   "pygments_lexer": "ipython3",
   "version": "3.10.14"
  }
 },
 "nbformat": 4,
 "nbformat_minor": 5
}
